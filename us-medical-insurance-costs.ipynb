{
 "cells": [
  {
   "cell_type": "markdown",
   "metadata": {},
   "source": [
    "# U.S. Medical Insurance Costs"
   ]
  },
  {
   "cell_type": "markdown",
   "metadata": {},
   "source": [
    "Which age group has the most children? \n",
    "What age group has the most smokers?\n",
    "Region to category stats.\n",
    "Does BMI have a great impact on the cost of insurance? \n",
    "Does having children affect cost? NO\n",
    "Does children increase BMI?  NO \n",
    "\n",
    "age,sex,bmi,children,smoker,region,charges\n",
    "\n",
    "Build functions for each assessment to avoid repetitive code typing"
   ]
  },
  {
   "cell_type": "markdown",
   "metadata": {},
   "source": [
    "### Import Libraries & Create Functions"
   ]
  },
  {
   "cell_type": "code",
   "execution_count": 309,
   "metadata": {},
   "outputs": [],
   "source": [
    "import csv \n",
    "import statistics as stats\n",
    "\n",
    "# SIMPLE FUNCTIONS\n",
    "# -----------------------------------------------------------\n",
    "def find_average(x): \n",
    "    average = sum(x) / len(x)\n",
    "    return average \n",
    "\n",
    "def find_percentage(x, y):\n",
    "    percent = (x / len(y)) * 100\n",
    "    return percent \n",
    "\n",
    "def find_median(x): \n",
    "    median = stats.median(sorted(x))\n",
    "    return median\n",
    "\n",
    "# use this function with a list of dictionaries and a variable to find the costs\n",
    "\n",
    "def determine_cost_values(items, x): \n",
    "    \n",
    "    unsorted_list = [] \n",
    "    for each in items: \n",
    "        unsorted_list.append(each[x])\n",
    "    \n",
    "    sorted_list = sorted(unsorted_list)\n",
    "    median = stats.median(sorted_list)\n",
    "    \n",
    "    total = 0 \n",
    "    for each in items: \n",
    "        total += each[x]\n",
    "    avg = total / len(items)\n",
    "    \n",
    "    print(\"The average value =\", round(avg, 1))\n",
    "    print(\"The median =\", round(median, 1))\n",
    "    print(\"The minimum value =\", round(min(sorted_list), 1))\n",
    "    print(\"The maximum value =\", round(max(sorted_list), 1))\n",
    "    \n",
    "# ORGANIZING OR SORTING INTO A LIST\n",
    "\n",
    "def organize_list(items, x, y): \n",
    "    new_list = [] \n",
    "    \n",
    "    for each in items: \n",
    "        if each[x] == y: \n",
    "            new_list.append(each)\n",
    "        else:\n",
    "            continue\n",
    "    return new_list\n",
    "\n",
    "# COUNTING ROWS VIA SORTING \n",
    "\n",
    "    \n"
   ]
  },
  {
   "cell_type": "markdown",
   "metadata": {},
   "source": [
    "### Open File and Sort"
   ]
  },
  {
   "cell_type": "code",
   "execution_count": 310,
   "metadata": {},
   "outputs": [],
   "source": [
    "# LISTS AND DICTIONARIES \n",
    "# ------------------------------------------------------------\n",
    "ages = [] \n",
    "genders = [] \n",
    "bmi = [] \n",
    "children = [] \n",
    "smoker = [] \n",
    "regions = [] \n",
    "charges = [] \n",
    "\n",
    "list_of_dicts = [] \n",
    "\n",
    "# OPENING THE FILE AND ALL THE COMMANDS TO ORGANIZE THE DATA \n",
    "# ------------------------------------------------------------\n",
    "with open('insurance.csv') as insurance_csv: \n",
    "    insurance_dict = csv.DictReader(insurance_csv)\n",
    "    id_num = 0 \n",
    "    for row in insurance_dict: \n",
    "        \n",
    "        genders.append(row['sex'])\n",
    "        \n",
    "        age_int = int(row['age'])\n",
    "        ages.append(age_int)\n",
    "        \n",
    "        bmi_float = float(row['bmi'])\n",
    "        bmi.append(bmi_float)\n",
    "        \n",
    "        children.append(int(row['children']))\n",
    "        \n",
    "        smoker.append(row['smoker'])\n",
    "    \n",
    "        regions.append(row['region'])\n",
    "        \n",
    "        charges.append(round(float(row['charges'])))\n",
    "        \n",
    "        dict_row = {\n",
    "            'id': id_num,\n",
    "            'age': age_int, \n",
    "            'gender': row['sex'],\n",
    "            'bmi': bmi_float,\n",
    "            'children': int(row['children']), \n",
    "            'smoker': row['smoker'], \n",
    "            'region': row['region'], \n",
    "            'cost': round(float(row['charges']), 2)\n",
    "        }\n",
    "        \n",
    "        list_of_dicts.append(dict_row)\n",
    "        id_num += 1 \n",
    "\n",
    "        \n",
    "#for item in list_of_dicts: \n",
    "#   print(item)"
   ]
  },
  {
   "cell_type": "markdown",
   "metadata": {},
   "source": [
    "### Conduct the organizing"
   ]
  },
  {
   "cell_type": "markdown",
   "metadata": {},
   "source": [
    "#### 1) Ages"
   ]
  },
  {
   "cell_type": "code",
   "execution_count": 311,
   "metadata": {},
   "outputs": [
    {
     "name": "stdout",
     "output_type": "stream",
     "text": [
      "The Average Age is: 39.2 years old\n"
     ]
    }
   ],
   "source": [
    "avg_age_all = round(find_average(ages),1)\n",
    "\n",
    "print('The Average Age is:', avg_age_all, 'years old')\n"
   ]
  },
  {
   "cell_type": "markdown",
   "metadata": {},
   "source": [
    "#### 2) Gender"
   ]
  },
  {
   "cell_type": "code",
   "execution_count": 312,
   "metadata": {},
   "outputs": [
    {
     "name": "stdout",
     "output_type": "stream",
     "text": [
      "Males: 676\n",
      "Females: 662\n",
      "Males make up 50.5%.\n",
      "Females make up 49.5%.\n"
     ]
    }
   ],
   "source": [
    "male_count = genders.count('male')\n",
    "female_count = genders.count('female')\n",
    "\n",
    "percentage_male = round(find_percentage(male_count, genders), 1)\n",
    "percentage_female = round(find_percentage(female_count, genders), 1)\n",
    "\n",
    "print('Males:', male_count)\n",
    "print('Females:', female_count)\n",
    "print('Males make up ' + str(percentage_male) + '%.')\n",
    "print('Females make up ' + str(percentage_female) + '%.')\n"
   ]
  },
  {
   "cell_type": "markdown",
   "metadata": {},
   "source": [
    "#### 3) BMI"
   ]
  },
  {
   "cell_type": "code",
   "execution_count": 313,
   "metadata": {},
   "outputs": [
    {
     "name": "stdout",
     "output_type": "stream",
     "text": [
      "The average BMI rating is: 30.7\n",
      "41 people have a rating below 20.\n",
      "316 people have a rating above 35.\n"
     ]
    }
   ],
   "source": [
    "avg_bmi = round(find_average(bmi), 1)\n",
    "\n",
    "total_below_20 = 0 \n",
    "total_above_35 = 0 \n",
    "for each in bmi: \n",
    "    if each < 20.0: \n",
    "        total_below_20 += 1 \n",
    "    elif each > 35: \n",
    "        total_above_35 += 1\n",
    "\n",
    "print('The average BMI rating is:', avg_bmi)\n",
    "print(total_below_20, 'people have a rating below 20.')\n",
    "print(total_above_35, 'people have a rating above 35.')\n"
   ]
  },
  {
   "cell_type": "markdown",
   "metadata": {},
   "source": [
    "#### 4) Children"
   ]
  },
  {
   "cell_type": "code",
   "execution_count": 314,
   "metadata": {},
   "outputs": [
    {
     "name": "stdout",
     "output_type": "stream",
     "text": [
      "Customers with No Children: 574\n",
      "Customers with only 1 Child: 324\n",
      "Customers with 2 or more children: 440\n"
     ]
    }
   ],
   "source": [
    "one_child = 0 \n",
    "greater_than_one = 0 \n",
    "no_children = 0 \n",
    "\n",
    "for each in children: \n",
    "    if each == 0: \n",
    "        no_children +=1\n",
    "    elif each == 1: \n",
    "        one_child +=1 \n",
    "    elif each > 1:\n",
    "        greater_than_one += 1\n",
    "        \n",
    "print('Customers with No Children:', no_children)\n",
    "print('Customers with only 1 Child:', one_child)\n",
    "print('Customers with 2 or more children:', greater_than_one)"
   ]
  },
  {
   "cell_type": "markdown",
   "metadata": {},
   "source": [
    "#### 5) Smoker"
   ]
  },
  {
   "cell_type": "code",
   "execution_count": 315,
   "metadata": {},
   "outputs": [
    {
     "name": "stdout",
     "output_type": "stream",
     "text": [
      "274 customers are smokers while 1064 customers don't smoke.\n"
     ]
    }
   ],
   "source": [
    "is_smoker = smoker.count('yes')\n",
    "non_smoker = smoker.count('no')\n",
    "\n",
    "print(is_smoker, \"customers are smokers while\", non_smoker, \"customers don't smoke.\")\n"
   ]
  },
  {
   "cell_type": "markdown",
   "metadata": {},
   "source": [
    "#### 6) Regions"
   ]
  },
  {
   "cell_type": "code",
   "execution_count": 328,
   "metadata": {},
   "outputs": [
    {
     "name": "stdout",
     "output_type": "stream",
     "text": [
      "\n",
      "The costs for the 325 Nortwest residents:\n",
      "The average value = 12417.6\n",
      "The median = 8965.8\n",
      "The minimum value = 1621.3\n",
      "The maximum value = 60021.4\n",
      "\n",
      "The costs for the 325 Southwest residents:\n",
      "The average value = 12346.9\n",
      "The median = 8798.6\n",
      "The minimum value = 1241.6\n",
      "The maximum value = 52590.8\n",
      "\n",
      "The costs for the 324 Northeast residents:\n",
      "The average value = 13406.4\n",
      "The median = 10057.7\n",
      "The minimum value = 1694.8\n",
      "The maximum value = 58571.1\n",
      "\n",
      "The costs for the 364 Southeast residents:\n",
      "The average value = 14735.4\n",
      "The median = 9294.1\n",
      "The minimum value = 1121.9\n",
      "The maximum value = 63770.4\n",
      "\n",
      "Northwest Smokers: 58\n",
      "Northwest Non-Smokers: 267\n",
      "Southwest Smokers: 58\n",
      "Southwest Non-Smokers: 267\n",
      "Northeast Smokers: 67\n",
      "Northeast Non_Smokers: 257\n",
      "Southeast Smokers: 91\n",
      "Southeast Non_Smokers: 273\n",
      "\n",
      "Southeast smokers make up 33.2 % of all smokers, and so that could explain the higher costs in the southeastern region. Smokers in the Southeastern Region make up 25.0 % of all the customers in this Region which adds to why it may cost more to insure customers here.\n"
     ]
    }
   ],
   "source": [
    "northwest = organize_list(list_of_dicts, 'region', 'northwest')\n",
    "southwest = organize_list(list_of_dicts, 'region', 'southwest')\n",
    "northeast = organize_list(list_of_dicts, 'region', 'northeast')\n",
    "southeast = organize_list(list_of_dicts, 'region', 'southeast')\n",
    "\n",
    "print()\n",
    "print(\"The costs for the\", len(northwest), \"Nortwest residents:\")\n",
    "determine_cost_values(northwest, 'cost')\n",
    "\n",
    "print()\n",
    "print(\"The costs for the\", len(southwest), \"Southwest residents:\")\n",
    "determine_cost_values(southwest, 'cost')\n",
    "\n",
    "print()\n",
    "print(\"The costs for the\", len(northeast), \"Northeast residents:\")\n",
    "determine_cost_values(northeast, 'cost')\n",
    "\n",
    "print()\n",
    "print(\"The costs for the\", len(southeast), \"Southeast residents:\")\n",
    "determine_cost_values(southeast, 'cost')\n",
    "\n",
    "print()\n",
    "\n",
    "nw_smokers = organize_list(northwest, 'smoker', 'yes')\n",
    "nw_non_smokers = organize_list(northwest, 'smoker', 'no')\n",
    "sw_smokers = organize_list(southwest, 'smoker', 'yes')\n",
    "sw_non_smokers = organize_list(southwest, 'smoker', 'no')\n",
    "ne_smokers = organize_list(northeast, 'smoker', 'yes')\n",
    "ne_non_smokers = organize_list(northeast, 'smoker', 'no')\n",
    "se_smokers = organize_list(southeast, 'smoker', 'yes')\n",
    "se_non_smokers = organize_list(southeast, 'smoker', 'no')\n",
    "\n",
    "print(\"Northwest Smokers:\", len(nw_smokers))\n",
    "print(\"Northwest Non-Smokers:\", len(nw_non_smokers))\n",
    "print(\"Southwest Smokers:\", len(sw_smokers))\n",
    "print(\"Southwest Non-Smokers:\", len(sw_non_smokers))\n",
    "print(\"Northeast Smokers:\", len(ne_smokers))\n",
    "print(\"Northeast Non_Smokers:\", len(ne_non_smokers))\n",
    "print(\"Southeast Smokers:\", len(se_smokers))\n",
    "print(\"Southeast Non_Smokers:\", len(se_non_smokers))\n",
    "\n",
    "percent_se = round((len(se_smokers) / is_smoker)*100, 1)\n",
    "percent_of_se = round((len(se_smokers) / len(southeast))*100, 1)\n",
    "\n",
    "print()\n",
    "print(\"Southeast smokers make up\", percent_se, \"% of all smokers, and so that could explain the higher costs in the southeastern region. Smokers in the Southeastern Region make up\", percent_of_se, \"% of all the customers in this Region which adds to why it may cost more to insure customers here.\") "
   ]
  },
  {
   "cell_type": "markdown",
   "metadata": {},
   "source": [
    "#### 7) Charges"
   ]
  },
  {
   "cell_type": "code",
   "execution_count": 317,
   "metadata": {},
   "outputs": [
    {
     "name": "stdout",
     "output_type": "stream",
     "text": [
      "The most expensive charge is: 63770 dollars.\n",
      "The least expensive charge is: 1122 dollars.\n",
      "The average cost is: 13270.41 dollars.\n",
      "The median cost is: 9382.0 dollars. Therefore the typical cost for insurance is on the higher side.\n",
      "There are 0 customers getting charged below 1,000 dollars.\n",
      "There are 359 customers getting charged between 1,000 and 5,000 dollars.\n",
      "There are 353 customers getting charged between 5,000 and 10,000 dollars.\n",
      "There are 626 customers getting charged over 10,000 dollars.\n"
     ]
    }
   ],
   "source": [
    "most_expensive = max(charges)\n",
    "least_expensive = min(charges)\n",
    "\n",
    "print(\"The most expensive charge is:\", most_expensive, \"dollars.\")\n",
    "print(\"The least expensive charge is:\", least_expensive, \"dollars.\")\n",
    "\n",
    "## AVERAGE \n",
    "avg_cost = round(find_average(charges), 2)\n",
    "print(\"The average cost is:\", avg_cost, \"dollars.\")\n",
    "\n",
    "## MEDIAN\n",
    "median_cost = find_median(charges)\n",
    "print(\"The median cost is:\", median_cost, \"dollars. Therefore the typical cost for insurance is on the higher side.\")\n",
    "\n",
    "# COUNTING VARIABLES\n",
    "below_1000 = 0 \n",
    "above_1000 = 0 \n",
    "above_5000 = 0\n",
    "above_10000 = 0 \n",
    "\n",
    "# SORTING LOOP \n",
    "for each in charges: \n",
    "    if each < 1000: \n",
    "        below_1000 += 1\n",
    "    elif each < 5000: \n",
    "        above_1000 += 1\n",
    "    elif each < 10000: \n",
    "        above_5000 +=1\n",
    "    elif each > 10000: \n",
    "        above_10000 += 1\n",
    "\n",
    "# PRINTING STATEMENTS \n",
    "print(\"There are\", below_1000, \"customers getting charged below 1,000 dollars.\")\n",
    "print(\"There are\", above_1000, \"customers getting charged between 1,000 and 5,000 dollars.\")\n",
    "print(\"There are\", above_5000, \"customers getting charged between 5,000 and 10,000 dollars.\")\n",
    "print(\"There are\", above_10000, \"customers getting charged over 10,000 dollars.\")\n",
    "\n"
   ]
  },
  {
   "cell_type": "markdown",
   "metadata": {},
   "source": [
    "## Relationships Between The Data"
   ]
  },
  {
   "cell_type": "markdown",
   "metadata": {},
   "source": []
  },
  {
   "cell_type": "markdown",
   "metadata": {},
   "source": [
    "#### 1) Do Children Affect BMI or Cost? "
   ]
  },
  {
   "cell_type": "code",
   "execution_count": 318,
   "metadata": {},
   "outputs": [
    {
     "name": "stdout",
     "output_type": "stream",
     "text": [
      "Those who HAVE children, their average BMI is: 30.7\n",
      "Those who do NOT have children, their average BMI is: 30.6\n",
      "\n",
      "Costs for those who DO have Children:\n",
      "The average value = 13949.9\n",
      "The median = 9223.8\n",
      "The minimum value = 1711.0\n",
      "The maximum value = 60021.4\n",
      "\n",
      "Costs for those who DO NOT have Children:\n",
      "The average value = 12366.0\n",
      "The median = 9857.0\n",
      "The minimum value = 1121.9\n",
      "The maximum value = 63770.4\n",
      "\n",
      "Therefore, children do NOT appear to have a significant affect on insurance costs.\n",
      "\n",
      "BMIs for those who DO have Children:\n",
      "The average value = 30.7\n",
      "The median = 30.5\n",
      "The minimum value = 16.8\n",
      "The maximum value = 52.6\n",
      "\n",
      "BMIs for those who DO NOT have Children:\n",
      "The average value = 30.6\n",
      "The median = 30.3\n",
      "The minimum value = 16.0\n",
      "The maximum value = 53.1\n"
     ]
    }
   ],
   "source": [
    "# LISTS \n",
    "no_children_bmis = [] \n",
    "has_children_bmis = [] \n",
    "\n",
    "has_children = [] \n",
    "no_children = [] \n",
    "# FOR LOOP\n",
    "for row in list_of_dicts: \n",
    "    if row['children'] >= 1: \n",
    "        has_children_bmis.append(row['bmi'])\n",
    "        has_children.append(row)\n",
    "    elif row['children'] < 1: \n",
    "        no_children.append(row)\n",
    "        no_children_bmis.append(row['bmi'])\n",
    "        \n",
    "avg_bmi_no_child = round(find_average(no_children_bmis),1)\n",
    "avg_bmi_has_child = round(find_average(has_children_bmis),1)\n",
    "\n",
    "print(\"Those who HAVE children, their average BMI is:\", avg_bmi_has_child)\n",
    "print(\"Those who do NOT have children, their average BMI is:\", avg_bmi_no_child)\n",
    "\n",
    "print()\n",
    "print(\"Costs for those who DO have Children:\")\n",
    "determine_cost_values(has_children, 'cost')\n",
    "\n",
    "print()\n",
    "print(\"Costs for those who DO NOT have Children:\")\n",
    "determine_cost_values(no_children, 'cost')\n",
    "\n",
    "print()\n",
    "print(\"Therefore, children do NOT appear to have a significant affect on insurance costs.\")\n",
    "\n",
    "print()\n",
    "print(\"BMIs for those who DO have Children:\")\n",
    "determine_cost_values(has_children, 'bmi')\n",
    "\n",
    "print()\n",
    "print(\"BMIs for those who DO NOT have Children:\")\n",
    "determine_cost_values(no_children, 'bmi')\n",
    "   "
   ]
  },
  {
   "cell_type": "markdown",
   "metadata": {},
   "source": [
    "#### 2) How much of an affect does smoking have on your life? "
   ]
  },
  {
   "cell_type": "code",
   "execution_count": 319,
   "metadata": {},
   "outputs": [
    {
     "name": "stdout",
     "output_type": "stream",
     "text": [
      "1 child, smokes and greater than $5000: 274\n",
      "1 child, doesn't smoke, and greater than $5000: 1064\n",
      "\n",
      "Smokers Costs:\n",
      "The average value = 32050.2\n",
      "The median = 34456.3\n",
      "The minimum value = 12829.5\n",
      "The maximum value = 63770.4\n",
      "\n",
      "Non-Smokers Costs:\n",
      "The average value = 8434.3\n",
      "The median = 7345.4\n",
      "The minimum value = 1121.9\n",
      "The maximum value = 36910.6\n",
      "\n",
      "It is determined that SMOKERS are unsurprisingly more expensive to insure than NON-SMOKERS.\n"
     ]
    }
   ],
   "source": [
    "non_smoker_list = [] \n",
    "smoker_list = [] \n",
    "count_smoker = 0 \n",
    "count_non_smoker = 0 \n",
    "for row in list_of_dicts: \n",
    "    if row['smoker'] == 'yes': \n",
    "        count_smoker +=1\n",
    "        smoker_list.append(row)\n",
    "    else: \n",
    "        non_smoker_list.append(row)\n",
    "        count_non_smoker +=1\n",
    "\n",
    "# DETERMINE THE AVERAGE INSURANCE COST FOR SMOKERS TO NON SMOKERS\n",
    "\n",
    "print(\"1 child, smokes and greater than $5000:\", count_smoker)\n",
    "print(\"1 child, doesn't smoke, and greater than $5000:\", count_non_smoker)\n",
    "\n",
    "print()\n",
    "print(\"Smokers Costs:\")\n",
    "determine_cost_values(smoker_list, 'cost')\n",
    "print()\n",
    "print(\"Non-Smokers Costs:\")\n",
    "determine_cost_values(non_smoker_list, 'cost')\n",
    "\n",
    "print()\n",
    "print(\"It is determined that SMOKERS are unsurprisingly more expensive to insure than NON-SMOKERS.\")"
   ]
  }
 ],
 "metadata": {
  "kernelspec": {
   "display_name": "Python 3 (ipykernel)",
   "language": "python",
   "name": "python3"
  },
  "language_info": {
   "codemirror_mode": {
    "name": "ipython",
    "version": 3
   },
   "file_extension": ".py",
   "mimetype": "text/x-python",
   "name": "python",
   "nbconvert_exporter": "python",
   "pygments_lexer": "ipython3",
   "version": "3.11.4"
  }
 },
 "nbformat": 4,
 "nbformat_minor": 4
}
